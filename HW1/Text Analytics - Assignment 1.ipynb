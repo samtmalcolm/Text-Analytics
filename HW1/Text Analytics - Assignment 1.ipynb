{
 "cells": [
  {
   "cell_type": "markdown",
   "metadata": {},
   "source": [
    "## Text Analytics - Assignment 1\n",
    "\n",
    "### Wenying Hu, Jireh Zhou, Sam Malcolm, Shuyuan Sun, Xueru Rong"
   ]
  },
  {
   "cell_type": "markdown",
   "metadata": {},
   "source": [
    "#### Randomly select 2500 data points (the training dataset train_rev1 contains nearly 250k) for ease of analysis."
   ]
  },
  {
   "cell_type": "code",
   "execution_count": 1,
   "metadata": {},
   "outputs": [
    {
     "name": "stdout",
     "output_type": "stream",
     "text": [
      "Populating the interactive namespace from numpy and matplotlib\n"
     ]
    }
   ],
   "source": [
    "from pandas import Series, DataFrame\n",
    "import pandas as pd\n",
    "import nltk\n",
    "from nltk import word_tokenize\n",
    "from string import punctuation\n",
    "from nltk.corpus import stopwords\n",
    "from nltk.corpus import wordnet\n",
    "from nltk import stem\n",
    "from nltk.stem import WordNetLemmatizer\n",
    "import scipy.stats as ss\n",
    "import numpy as np\n",
    "import math\n",
    "import matplotlib.pyplot as plt\n",
    "from collections import Counter\n",
    "from patsy import dmatrices\n",
    "from sklearn import naive_bayes\n",
    "from sklearn import metrics\n",
    "from sklearn.metrics import confusion_matrix\n",
    "from sklearn.feature_extraction.text import CountVectorizer\n",
    "import statsmodels.api as sm\n",
    "import re\n",
    "import warnings\n",
    "warnings.filterwarnings('ignore')\n",
    "%pylab inline\n",
    "df_jobs = pd.read_csv('Train_rev1.csv',encoding=\"utf-8\").sample(n=2500, random_state=66).reset_index(drop=True)"
   ]
  },
  {
   "cell_type": "code",
   "execution_count": 2,
   "metadata": {},
   "outputs": [
    {
     "data": {
      "text/html": [
       "<div>\n",
       "<style scoped>\n",
       "    .dataframe tbody tr th:only-of-type {\n",
       "        vertical-align: middle;\n",
       "    }\n",
       "\n",
       "    .dataframe tbody tr th {\n",
       "        vertical-align: top;\n",
       "    }\n",
       "\n",
       "    .dataframe thead th {\n",
       "        text-align: right;\n",
       "    }\n",
       "</style>\n",
       "<table border=\"1\" class=\"dataframe\">\n",
       "  <thead>\n",
       "    <tr style=\"text-align: right;\">\n",
       "      <th></th>\n",
       "      <th>Id</th>\n",
       "      <th>Title</th>\n",
       "      <th>FullDescription</th>\n",
       "      <th>LocationRaw</th>\n",
       "      <th>LocationNormalized</th>\n",
       "      <th>ContractType</th>\n",
       "      <th>ContractTime</th>\n",
       "      <th>Company</th>\n",
       "      <th>Category</th>\n",
       "      <th>SalaryRaw</th>\n",
       "      <th>SalaryNormalized</th>\n",
       "      <th>SourceName</th>\n",
       "    </tr>\n",
       "  </thead>\n",
       "  <tbody>\n",
       "    <tr>\n",
       "      <th>0</th>\n",
       "      <td>71420286</td>\n",
       "      <td>SALES (**** Positions available)</td>\n",
       "      <td>Job Title: Recruitment Sales (**** Positions a...</td>\n",
       "      <td>East London London South East</td>\n",
       "      <td>South East London</td>\n",
       "      <td>NaN</td>\n",
       "      <td>NaN</td>\n",
       "      <td>BlueTown Online</td>\n",
       "      <td>Sales Jobs</td>\n",
       "      <td>15000-32000 Per Annum + Benefits</td>\n",
       "      <td>23500</td>\n",
       "      <td>salestarget.co.uk</td>\n",
       "    </tr>\n",
       "    <tr>\n",
       "      <th>1</th>\n",
       "      <td>71391788</td>\n",
       "      <td>Senior Reinsurance Claims Technician  Treaty  ...</td>\n",
       "      <td>Job Ref: MR**** City based Circa pound;**** An...</td>\n",
       "      <td>City of London EC3</td>\n",
       "      <td>The City</td>\n",
       "      <td>NaN</td>\n",
       "      <td>permanent</td>\n",
       "      <td>Matador Recruitment</td>\n",
       "      <td>Accounting &amp; Finance Jobs</td>\n",
       "      <td>50,000</td>\n",
       "      <td>50000</td>\n",
       "      <td>insurancejobs.co.uk</td>\n",
       "    </tr>\n",
       "    <tr>\n",
       "      <th>2</th>\n",
       "      <td>69023084</td>\n",
       "      <td>Product Manager (Manufacturing)</td>\n",
       "      <td>Leading manufacturing Company with reputation ...</td>\n",
       "      <td>Newport, Gwent</td>\n",
       "      <td>UK</td>\n",
       "      <td>NaN</td>\n",
       "      <td>permanent</td>\n",
       "      <td>Sigma Recruitment</td>\n",
       "      <td>PR, Advertising &amp; Marketing Jobs</td>\n",
       "      <td>35000/annum Car or Car Allowance + Benefits</td>\n",
       "      <td>35000</td>\n",
       "      <td>cv-library.co.uk</td>\n",
       "    </tr>\n",
       "    <tr>\n",
       "      <th>3</th>\n",
       "      <td>72688654</td>\n",
       "      <td>Technical Architect (Networks) Hertfordshire</td>\n",
       "      <td>Technical Infrastructure Architect, Hertfordsh...</td>\n",
       "      <td>Hertfordshire</td>\n",
       "      <td>Hertfordshire</td>\n",
       "      <td>NaN</td>\n",
       "      <td>permanent</td>\n",
       "      <td>Bright Purple Resourcing Ltd</td>\n",
       "      <td>IT Jobs</td>\n",
       "      <td>60k - 75k pa + excellent benefits</td>\n",
       "      <td>67500</td>\n",
       "      <td>jobsite.co.uk</td>\n",
       "    </tr>\n",
       "    <tr>\n",
       "      <th>4</th>\n",
       "      <td>72678567</td>\n",
       "      <td>Java Developer Cuttingedge technologies up to ...</td>\n",
       "      <td>Java, developer, Web development, Web services...</td>\n",
       "      <td>Manchester</td>\n",
       "      <td>Manchester</td>\n",
       "      <td>NaN</td>\n",
       "      <td>permanent</td>\n",
       "      <td>Ascent People Ltd</td>\n",
       "      <td>IT Jobs</td>\n",
       "      <td>38k - 50k pa + great benefits</td>\n",
       "      <td>44000</td>\n",
       "      <td>jobsite.co.uk</td>\n",
       "    </tr>\n",
       "  </tbody>\n",
       "</table>\n",
       "</div>"
      ],
      "text/plain": [
       "         Id                                              Title  \\\n",
       "0  71420286                   SALES (**** Positions available)   \n",
       "1  71391788  Senior Reinsurance Claims Technician  Treaty  ...   \n",
       "2  69023084                    Product Manager (Manufacturing)   \n",
       "3  72688654       Technical Architect (Networks) Hertfordshire   \n",
       "4  72678567  Java Developer Cuttingedge technologies up to ...   \n",
       "\n",
       "                                     FullDescription  \\\n",
       "0  Job Title: Recruitment Sales (**** Positions a...   \n",
       "1  Job Ref: MR**** City based Circa pound;**** An...   \n",
       "2  Leading manufacturing Company with reputation ...   \n",
       "3  Technical Infrastructure Architect, Hertfordsh...   \n",
       "4  Java, developer, Web development, Web services...   \n",
       "\n",
       "                     LocationRaw LocationNormalized ContractType ContractTime  \\\n",
       "0  East London London South East  South East London          NaN          NaN   \n",
       "1             City of London EC3           The City          NaN    permanent   \n",
       "2                 Newport, Gwent                 UK          NaN    permanent   \n",
       "3                  Hertfordshire      Hertfordshire          NaN    permanent   \n",
       "4                     Manchester         Manchester          NaN    permanent   \n",
       "\n",
       "                        Company                          Category  \\\n",
       "0               BlueTown Online                        Sales Jobs   \n",
       "1           Matador Recruitment         Accounting & Finance Jobs   \n",
       "2             Sigma Recruitment  PR, Advertising & Marketing Jobs   \n",
       "3  Bright Purple Resourcing Ltd                           IT Jobs   \n",
       "4             Ascent People Ltd                           IT Jobs   \n",
       "\n",
       "                                     SalaryRaw  SalaryNormalized  \\\n",
       "0             15000-32000 Per Annum + Benefits             23500   \n",
       "1                                       50,000             50000   \n",
       "2  35000/annum Car or Car Allowance + Benefits             35000   \n",
       "3            60k - 75k pa + excellent benefits             67500   \n",
       "4                38k - 50k pa + great benefits             44000   \n",
       "\n",
       "            SourceName  \n",
       "0    salestarget.co.uk  \n",
       "1  insurancejobs.co.uk  \n",
       "2     cv-library.co.uk  \n",
       "3        jobsite.co.uk  \n",
       "4        jobsite.co.uk  "
      ]
     },
     "execution_count": 2,
     "metadata": {},
     "output_type": "execute_result"
    }
   ],
   "source": [
    "df_jobs[:5]"
   ]
  },
  {
   "cell_type": "markdown",
   "metadata": {},
   "source": [
    "## Part A"
   ]
  },
  {
   "cell_type": "markdown",
   "metadata": {},
   "source": [
    "### A1. What are the top 5 parts of speech in the job descriptions? How frequently do they appear? How do these numbers change if you exclude stopwords?\n",
    "\n",
    "The top 5 parts of speech in the job descriptions are:\n",
    "(1) NN (Noun, singular or mass)\n",
    "(2) JJ (Adjective)\n",
    "(3) IN (Preposition or subordinating conjunction)\n",
    "(4) DT (Determiner)\n",
    "(5) NNS (Noun, plural)\n",
    "\n",
    "If you exclude stopwords, prepositions and determiners fall out of the top 5. Instead, our new list contains:\n",
    "(1) NN\n",
    "(2) JJ\n",
    "(3) NNS\n",
    "(4) VBG (Verb, gerund or present participle)\n",
    "(5) VBP (Verb, non-3rd person singular present)\n",
    "\n",
    "If you refer to the output, you'll notice that the values for JJ (adjectives) increased at this step. This could be a result of the contextual meaning of words changing after excluding stop-words. \n",
    "\n",
    "For a different perspective, we then excluded stopwords from the list that had already received POS tags. This prevented their absence from affecting how other words are tagged. You can see from the output that this lowered the occurrences of adjectives as we would have expected. We then see the following order:\n",
    "(1) NN\n",
    "(2) JJ\n",
    "(3) NNS\n",
    "(4) VB\n",
    "(5) VBG"
   ]
  },
  {
   "cell_type": "code",
   "execution_count": 3,
   "metadata": {},
   "outputs": [
    {
     "data": {
      "text/plain": [
       "0    Job Title: Recruitment Sales (**** Positions a...\n",
       "1    Job Ref: MR**** City based Circa pound;**** An...\n",
       "2    Leading manufacturing Company with reputation ...\n",
       "3    Technical Infrastructure Architect, Hertfordsh...\n",
       "4    Java, developer, Web development, Web services...\n",
       "Name: FullDescription, dtype: object"
      ]
     },
     "execution_count": 3,
     "metadata": {},
     "output_type": "execute_result"
    }
   ],
   "source": [
    "full_description=df_jobs['FullDescription']\n",
    "full_description.head()"
   ]
  },
  {
   "cell_type": "code",
   "execution_count": 4,
   "metadata": {},
   "outputs": [],
   "source": [
    "# Create a list of tokenized words from the job descriptions\n",
    "words_list = []\n",
    "for entry in full_description:\n",
    "    entry_processed = entry.lower()\n",
    "    for p in punctuation:\n",
    "        entry_processed=entry_processed.replace(p,'')\n",
    "    words_list.append(entry_processed)\n",
    "    \n",
    "words_string = \" \".join(words_list)\n",
    "text = word_tokenize(words_string)"
   ]
  },
  {
   "cell_type": "code",
   "execution_count": 5,
   "metadata": {},
   "outputs": [],
   "source": [
    "# Get part of speech for each word\n",
    "text_pos = nltk.pos_tag(text)"
   ]
  },
  {
   "cell_type": "code",
   "execution_count": 6,
   "metadata": {},
   "outputs": [
    {
     "data": {
      "text/plain": [
       "NN     156000\n",
       "JJ      69762\n",
       "IN      65230\n",
       "DT      51131\n",
       "NNS     50657\n",
       "dtype: int64"
      ]
     },
     "execution_count": 6,
     "metadata": {},
     "output_type": "execute_result"
    }
   ],
   "source": [
    "# Create a series with the POS tags, count the most frequent\n",
    "pos_count = {}\n",
    "def poscount(diction,text):\n",
    "    for item in text:\n",
    "        if item[1] not in diction.keys():\n",
    "            diction[item[1]]=0\n",
    "        else:\n",
    "            diction[item[1]]+=1\n",
    "    return diction\n",
    "pos_series = pd.Series(poscount(pos_count,text_pos)).sort_values(ascending=False)\n",
    "pos_series[:5]"
   ]
  },
  {
   "cell_type": "code",
   "execution_count": 7,
   "metadata": {},
   "outputs": [],
   "source": [
    "# Re-run after excluding stopwords\n",
    "\n",
    "stop_words = stopwords.words('english')\n",
    "\n",
    "filtered_text = []\n",
    "\n",
    "for w in text: \n",
    "    if w not in stop_words: \n",
    "        filtered_text.append(w)\n",
    "        \n",
    "# Get part of speech for each word\n",
    "filtered_pos = nltk.pos_tag(filtered_text)\n"
   ]
  },
  {
   "cell_type": "code",
   "execution_count": 8,
   "metadata": {},
   "outputs": [
    {
     "data": {
      "text/plain": [
       "NN     150673\n",
       "JJ      72258\n",
       "NNS     50027\n",
       "VBG     25480\n",
       "VBP     17161\n",
       "dtype: int64"
      ]
     },
     "execution_count": 8,
     "metadata": {},
     "output_type": "execute_result"
    }
   ],
   "source": [
    "# Create a series with the POS tags, count the most frequent\n",
    "filtered_count = {}\n",
    "filtered_series = pd.Series(poscount(filtered_count,filtered_pos)).sort_values(ascending=False)\n",
    "filtered_series[:5]"
   ]
  },
  {
   "cell_type": "code",
   "execution_count": 9,
   "metadata": {},
   "outputs": [
    {
     "data": {
      "text/plain": [
       "NN     155235\n",
       "JJ      67403\n",
       "NNS     50615\n",
       "VB      24302\n",
       "VBG     22133\n",
       "dtype: int64"
      ]
     },
     "execution_count": 9,
     "metadata": {},
     "output_type": "execute_result"
    }
   ],
   "source": [
    "# Removing stop words from the list with POS tags (rather than before tagging)\n",
    "pos_count_2 = []\n",
    "i = 0\n",
    "while i < len(text_pos):\n",
    "    word = text_pos[i][0]\n",
    "    pos_2 = text_pos[i][1]\n",
    "    if word not in stop_words:\n",
    "        pos_count_2.append(pos_2)\n",
    "    i += 1\n",
    "\n",
    "pos_series_2 = pd.Series(pos_count_2).astype(str)\n",
    "pos_series_2.value_counts()[:5]"
   ]
  },
  {
   "cell_type": "markdown",
   "metadata": {},
   "source": [
    "### A2. Does this data support Zipf’s law? Plot the most common 100 words in the data against the theoretical prediction of the law. For this question, do not remove stopwords. Also do not perform stemming or lemmatization. \n",
    "\n",
    "We observe that this data generally follows Zipf's law, though not exactly. Rather than the expected Beta coefficient of -1, we observed a coefficient of -1.31 when fitting a least squares regression model to predict log rank via log frequency."
   ]
  },
  {
   "cell_type": "code",
   "execution_count": 10,
   "metadata": {},
   "outputs": [],
   "source": [
    "# Create a dictionary with word counts\n",
    "words = set(text)\n",
    "counts = [(w, text.count(w)) for w in words]"
   ]
  },
  {
   "cell_type": "code",
   "execution_count": 11,
   "metadata": {
    "scrolled": true
   },
   "outputs": [],
   "source": [
    "counts_100=sorted(counts, key=lambda x: x[1],reverse=True)[0:100]"
   ]
  },
  {
   "cell_type": "code",
   "execution_count": 12,
   "metadata": {},
   "outputs": [],
   "source": [
    "amb_ranked = zip(counts_100, range(1,101))"
   ]
  },
  {
   "cell_type": "code",
   "execution_count": 13,
   "metadata": {},
   "outputs": [
    {
     "data": {
      "text/plain": [
       "[<matplotlib.lines.Line2D at 0x1c259b6690>]"
      ]
     },
     "execution_count": 13,
     "metadata": {},
     "output_type": "execute_result"
    },
    {
     "data": {
      "image/png": "[encoded data removed]",
      "text/plain": [
       "<Figure size 432x288 with 1 Axes>"
      ]
     },
     "metadata": {},
     "output_type": "display_data"
    }
   ],
   "source": [
    "plt.plot([math.log(b) for (a,b) in amb_ranked], [math.log(b) for ((a,b), c) in amb_ranked], 'ro')"
   ]
  },
  {
   "cell_type": "code",
   "execution_count": 14,
   "metadata": {},
   "outputs": [],
   "source": [
    "from __future__ import division\n",
    "m = counts_100[0][1]\n",
    "log_rank = [math.log(b) for (a,b) in amb_ranked]\n",
    "log_frequency =[math.log(b/m) for ((a,b), c) in amb_ranked]\n",
    "df = pd.DataFrame(data = {\"log_rank\":log_rank, \"log_frequency\":log_frequency})"
   ]
  },
  {
   "cell_type": "code",
   "execution_count": 15,
   "metadata": {},
   "outputs": [],
   "source": [
    "y, X = dmatrices('log_rank ~ 0 + log_frequency', data=df, return_type='dataframe')"
   ]
  },
  {
   "cell_type": "code",
   "execution_count": 16,
   "metadata": {},
   "outputs": [
    {
     "name": "stdout",
     "output_type": "stream",
     "text": [
      "beta =  -1.3149703838205784\n"
     ]
    }
   ],
   "source": [
    "model = sm.OLS(y, X)       # Set up the model\n",
    "result = model.fit()       # Fit model (find the intercept and slopes)\n",
    "print \"beta = \", result.params[0]"
   ]
  },
  {
   "cell_type": "code",
   "execution_count": 17,
   "metadata": {},
   "outputs": [
    {
     "data": {
      "text/plain": [
       "<matplotlib.legend.Legend at 0x1c2fcba750>"
      ]
     },
     "execution_count": 17,
     "metadata": {},
     "output_type": "execute_result"
    },
    {
     "data": {
      "image/png": "[encoded data removed]",
      "text/plain": [
       "<Figure size 432x288 with 1 Axes>"
      ]
     },
     "metadata": {},
     "output_type": "display_data"
    }
   ],
   "source": [
    "y_theoretical = [-1*x for x in log_frequency]\n",
    "scatter(x=log_frequency, y=log_rank)\n",
    "plot(log_frequency, y_theoretical, color='red', linewidth=2, label='Theoretical prediction by law')\n",
    "xlabel(\"log_frequency\")\n",
    "ylabel(\"log_rank\")\n",
    "legend(loc='best')"
   ]
  },
  {
   "cell_type": "markdown",
   "metadata": {},
   "source": [
    "### A3. If we remove stopwords and lemmatize the data, what are the 10 most common words? What are their frequencies?\n",
    "\n",
    "Output below."
   ]
  },
  {
   "cell_type": "code",
   "execution_count": 18,
   "metadata": {},
   "outputs": [
    {
     "data": {
      "text/plain": [
       "experience    4341\n",
       "role          3261\n",
       "team          3122\n",
       "client        2940\n",
       "work          2901\n",
       "business      2898\n",
       "skill         2440\n",
       "service       2392\n",
       "working       2276\n",
       "within        2199\n",
       "dtype: int64"
      ]
     },
     "execution_count": 18,
     "metadata": {},
     "output_type": "execute_result"
    }
   ],
   "source": [
    "#From the filtered text(stopwords removed from above steps), we lemmatize the text\n",
    "wl=WordNetLemmatizer()\n",
    "filtered_text_lem=[wl.lemmatize(w) for w in filtered_text]\n",
    "filtered_count_lem=pd.Series(filtered_text_lem)\n",
    "filtered_count_lem.value_counts().sort_values(ascending=False)[:10]"
   ]
  },
  {
   "cell_type": "markdown",
   "metadata": {},
   "source": [
    "## Part B"
   ]
  },
  {
   "cell_type": "markdown",
   "metadata": {},
   "source": [
    "### B1. Ignore the job descriptions, and train a model to predict high/low salary from all the numeric columns, e.g., part time/full time, contract vs. others, type of job (a lot of dummy variables), location (instead of using a huge number of dummy variables, you can use a list of cities in England with highest cost of living, and create a 0/1 variable which is 1 if the job is in one of those cities, else 0). Use the Naïve Bayes classifier. What is the accuracy of your model? \n",
    "\n",
    "The accuracy of the model on a test set of data (80/20 train / test split) was .734. Unfortunately, this was lower than the Prior Probability of .749. This information, as we have used it, does not appear to be a significant predictor of high vs. low salary jobs in the data."
   ]
  },
  {
   "cell_type": "code",
   "execution_count": 19,
   "metadata": {},
   "outputs": [
    {
     "data": {
      "text/html": [
       "<div>\n",
       "<style scoped>\n",
       "    .dataframe tbody tr th:only-of-type {\n",
       "        vertical-align: middle;\n",
       "    }\n",
       "\n",
       "    .dataframe tbody tr th {\n",
       "        vertical-align: top;\n",
       "    }\n",
       "\n",
       "    .dataframe thead th {\n",
       "        text-align: right;\n",
       "    }\n",
       "</style>\n",
       "<table border=\"1\" class=\"dataframe\">\n",
       "  <thead>\n",
       "    <tr style=\"text-align: right;\">\n",
       "      <th></th>\n",
       "      <th>Rank</th>\n",
       "      <th>City</th>\n",
       "      <th>Cost of Living Index</th>\n",
       "      <th>Rent Index</th>\n",
       "      <th>Cost of Living Plus Rent Index</th>\n",
       "      <th>Groceries Index</th>\n",
       "      <th>Restaurant Price Index</th>\n",
       "      <th>Local Purchasing Power Index</th>\n",
       "    </tr>\n",
       "  </thead>\n",
       "  <tbody>\n",
       "    <tr>\n",
       "      <th>0</th>\n",
       "      <td>1</td>\n",
       "      <td>London</td>\n",
       "      <td>82.75</td>\n",
       "      <td>68.62</td>\n",
       "      <td>76.00</td>\n",
       "      <td>60.24</td>\n",
       "      <td>87.59</td>\n",
       "      <td>97.24</td>\n",
       "    </tr>\n",
       "    <tr>\n",
       "      <th>1</th>\n",
       "      <td>2</td>\n",
       "      <td>Reading</td>\n",
       "      <td>77.86</td>\n",
       "      <td>38.41</td>\n",
       "      <td>59.02</td>\n",
       "      <td>67.84</td>\n",
       "      <td>83.26</td>\n",
       "      <td>118.46</td>\n",
       "    </tr>\n",
       "    <tr>\n",
       "      <th>2</th>\n",
       "      <td>3</td>\n",
       "      <td>Oxford</td>\n",
       "      <td>73.56</td>\n",
       "      <td>47.24</td>\n",
       "      <td>61.00</td>\n",
       "      <td>53.69</td>\n",
       "      <td>76.78</td>\n",
       "      <td>84.93</td>\n",
       "    </tr>\n",
       "    <tr>\n",
       "      <th>3</th>\n",
       "      <td>4</td>\n",
       "      <td>Milton Keynes</td>\n",
       "      <td>72.71</td>\n",
       "      <td>33.10</td>\n",
       "      <td>53.80</td>\n",
       "      <td>62.58</td>\n",
       "      <td>79.06</td>\n",
       "      <td>95.71</td>\n",
       "    </tr>\n",
       "    <tr>\n",
       "      <th>4</th>\n",
       "      <td>5</td>\n",
       "      <td>Aberdeen</td>\n",
       "      <td>72.55</td>\n",
       "      <td>27.19</td>\n",
       "      <td>50.90</td>\n",
       "      <td>57.84</td>\n",
       "      <td>91.23</td>\n",
       "      <td>119.55</td>\n",
       "    </tr>\n",
       "  </tbody>\n",
       "</table>\n",
       "</div>"
      ],
      "text/plain": [
       "   Rank           City  Cost of Living Index  Rent Index  \\\n",
       "0     1         London                 82.75       68.62   \n",
       "1     2        Reading                 77.86       38.41   \n",
       "2     3         Oxford                 73.56       47.24   \n",
       "3     4  Milton Keynes                 72.71       33.10   \n",
       "4     5       Aberdeen                 72.55       27.19   \n",
       "\n",
       "   Cost of Living Plus Rent Index  Groceries Index  Restaurant Price Index  \\\n",
       "0                           76.00            60.24                   87.59   \n",
       "1                           59.02            67.84                   83.26   \n",
       "2                           61.00            53.69                   76.78   \n",
       "3                           53.80            62.58                   79.06   \n",
       "4                           50.90            57.84                   91.23   \n",
       "\n",
       "   Local Purchasing Power Index  \n",
       "0                         97.24  \n",
       "1                        118.46  \n",
       "2                         84.93  \n",
       "3                         95.71  \n",
       "4                        119.55  "
      ]
     },
     "execution_count": 19,
     "metadata": {},
     "output_type": "execute_result"
    }
   ],
   "source": [
    "#Top 29 cities in UK with highest cost of living data from https://www.numbeo.com/cost-of-living/country_result.jsp?country=United+Kingdom \n",
    "df_col=pd.read_csv('cost of living.csv')\n",
    "df_col.head()"
   ]
  },
  {
   "cell_type": "code",
   "execution_count": 20,
   "metadata": {},
   "outputs": [
    {
     "data": {
      "text/plain": [
       "array([u'Id', u'Title', u'FullDescription', u'LocationRaw',\n",
       "       u'LocationNormalized', u'ContractType', u'ContractTime',\n",
       "       u'Company', u'Category', u'SalaryRaw', u'SalaryNormalized',\n",
       "       u'SourceName'], dtype=object)"
      ]
     },
     "execution_count": 20,
     "metadata": {},
     "output_type": "execute_result"
    }
   ],
   "source": [
    "df_jobs.columns.values"
   ]
  },
  {
   "cell_type": "code",
   "execution_count": 21,
   "metadata": {},
   "outputs": [
    {
     "data": {
      "text/plain": [
       "Id                                                             72688654\n",
       "Title                      Technical Architect (Networks) Hertfordshire\n",
       "FullDescription       Technical Infrastructure Architect, Hertfordsh...\n",
       "LocationRaw                                               Hertfordshire\n",
       "LocationNormalized                                        Hertfordshire\n",
       "ContractType                                                        NaN\n",
       "ContractTime                                                  permanent\n",
       "Company                                    Bright Purple Resourcing Ltd\n",
       "Category                                                        IT Jobs\n",
       "SalaryRaw                             60k - 75k pa + excellent benefits\n",
       "SalaryNormalized                                                  67500\n",
       "SourceName                                                jobsite.co.uk\n",
       "Name: 3, dtype: object"
      ]
     },
     "execution_count": 21,
     "metadata": {},
     "output_type": "execute_result"
    }
   ],
   "source": [
    "df_jobs.iloc[3]"
   ]
  },
  {
   "cell_type": "code",
   "execution_count": 22,
   "metadata": {},
   "outputs": [
    {
     "data": {
      "text/plain": [
       "42500.0"
      ]
     },
     "execution_count": 22,
     "metadata": {},
     "output_type": "execute_result"
    }
   ],
   "source": [
    "#Find out the 75th percentile of salary\n",
    "np.percentile(df_jobs['SalaryNormalized'],75)"
   ]
  },
  {
   "cell_type": "code",
   "execution_count": 23,
   "metadata": {},
   "outputs": [
    {
     "data": {
      "text/plain": [
       "0.0    1858\n",
       "1.0     642\n",
       "Name: target, dtype: int64"
      ]
     },
     "execution_count": 23,
     "metadata": {},
     "output_type": "execute_result"
    }
   ],
   "source": [
    "#Create the target\n",
    "df_jobs['target']=0.0\n",
    "mask1=(df_jobs['SalaryNormalized']>=42500)\n",
    "df_jobs['target'][mask1]=1.0\n",
    "df_jobs['target'].value_counts()"
   ]
  },
  {
   "cell_type": "code",
   "execution_count": 24,
   "metadata": {},
   "outputs": [
    {
     "data": {
      "text/plain": [
       "0.0    1800\n",
       "1.0     700\n",
       "Name: Location, dtype: int64"
      ]
     },
     "execution_count": 24,
     "metadata": {},
     "output_type": "execute_result"
    }
   ],
   "source": [
    "#Create 0/1 variable for jobs location using Cost of living data\n",
    "df_jobs['Location']=0.0\n",
    "mask2=(df_jobs['LocationNormalized'].isin(list(df_col['City'])))\n",
    "df_jobs['Location'][mask2]=1.0\n",
    "df_jobs['Location'].value_counts()"
   ]
  },
  {
   "cell_type": "code",
   "execution_count": 25,
   "metadata": {},
   "outputs": [
    {
     "data": {
      "text/plain": [
       "array([u'ContractType_full_time', u'ContractType_part_time',\n",
       "       u'ContractTime_contract', u'ContractTime_permanent',\n",
       "       u'Category_Accounting & Finance Jobs', u'Category_Admin Jobs',\n",
       "       u'Category_Charity & Voluntary Jobs', u'Category_Consultancy Jobs',\n",
       "       u'Category_Creative & Design Jobs',\n",
       "       u'Category_Customer Services Jobs',\n",
       "       u'Category_Domestic help & Cleaning Jobs',\n",
       "       u'Category_Energy, Oil & Gas Jobs', u'Category_Engineering Jobs',\n",
       "       u'Category_Graduate Jobs', u'Category_HR & Recruitment Jobs',\n",
       "       u'Category_Healthcare & Nursing Jobs',\n",
       "       u'Category_Hospitality & Catering Jobs', u'Category_IT Jobs',\n",
       "       u'Category_Legal Jobs', u'Category_Logistics & Warehouse Jobs',\n",
       "       u'Category_Maintenance Jobs', u'Category_Manufacturing Jobs',\n",
       "       u'Category_Other/General Jobs',\n",
       "       u'Category_PR, Advertising & Marketing Jobs',\n",
       "       u'Category_Part time Jobs', u'Category_Property Jobs',\n",
       "       u'Category_Retail Jobs', u'Category_Sales Jobs',\n",
       "       u'Category_Scientific & QA Jobs', u'Category_Social work Jobs',\n",
       "       u'Category_Teaching Jobs', u'Category_Trade & Construction Jobs',\n",
       "       u'Category_Travel Jobs'], dtype=object)"
      ]
     },
     "execution_count": 25,
     "metadata": {},
     "output_type": "execute_result"
    }
   ],
   "source": [
    "#Create other dummy variables\n",
    "categorical_columns=['ContractType', 'ContractTime', 'Category']\n",
    "df_dummies=pd.get_dummies(df_jobs[categorical_columns],\n",
    "                          prefix=categorical_columns,\n",
    "                          columns=categorical_columns)\n",
    "dummy_column_names=df_dummies.columns.values\n",
    "dummy_column_names"
   ]
  },
  {
   "cell_type": "code",
   "execution_count": 26,
   "metadata": {},
   "outputs": [],
   "source": [
    "# Concatenate all these new dummy columns into the old dataframe\n",
    "df2=pd.concat([df_jobs, df_dummies], axis=1)"
   ]
  },
  {
   "cell_type": "code",
   "execution_count": 27,
   "metadata": {},
   "outputs": [],
   "source": [
    "# Split into train and test sets\n",
    "df2_train = df2[:2000]\n",
    "df2_test = df2[-500:]"
   ]
  },
  {
   "cell_type": "code",
   "execution_count": 28,
   "metadata": {},
   "outputs": [
    {
     "name": "stdout",
     "output_type": "stream",
     "text": [
      "target ~ 0 + Location + Q(\"ContractType_full_time\") + Q(\"ContractType_part_time\") + Q(\"ContractTime_contract\") + Q(\"ContractTime_permanent\") + Q(\"Category_Accounting & Finance Jobs\") + Q(\"Category_Admin Jobs\") + Q(\"Category_Charity & Voluntary Jobs\") + Q(\"Category_Consultancy Jobs\") + Q(\"Category_Creative & Design Jobs\") + Q(\"Category_Customer Services Jobs\") + Q(\"Category_Domestic help & Cleaning Jobs\") + Q(\"Category_Energy, Oil & Gas Jobs\") + Q(\"Category_Engineering Jobs\") + Q(\"Category_Graduate Jobs\") + Q(\"Category_HR & Recruitment Jobs\") + Q(\"Category_Healthcare & Nursing Jobs\") + Q(\"Category_Hospitality & Catering Jobs\") + Q(\"Category_IT Jobs\") + Q(\"Category_Legal Jobs\") + Q(\"Category_Logistics & Warehouse Jobs\") + Q(\"Category_Maintenance Jobs\") + Q(\"Category_Manufacturing Jobs\") + Q(\"Category_Other/General Jobs\") + Q(\"Category_PR, Advertising & Marketing Jobs\") + Q(\"Category_Part time Jobs\") + Q(\"Category_Property Jobs\") + Q(\"Category_Retail Jobs\") + Q(\"Category_Sales Jobs\") + Q(\"Category_Scientific & QA Jobs\") + Q(\"Category_Social work Jobs\") + Q(\"Category_Teaching Jobs\") + Q(\"Category_Trade & Construction Jobs\") + Q(\"Category_Travel Jobs\")\n",
      "   log_rank\n",
      "0  0.000000\n",
      "1  0.693147\n",
      "2  1.098612\n",
      "3  1.386294\n",
      "4  1.609438\n",
      "5  1.791759\n",
      "6  1.945910\n",
      "7  2.079442\n",
      "8  2.197225\n",
      "9  2.302585\n"
     ]
    }
   ],
   "source": [
    "#Set up Naïve Bayes classifier\n",
    "formula= 'target ~ 0 + Location + {}'.format(' + '.join(['Q(\"{}\")'.format(x) for x in dummy_column_names]))\n",
    "Y_train, X_train=dmatrices(formula,df2_train,return_type='dataframe')\n",
    "y_train=Y_train['target'].values\n",
    "print formula\n",
    "print y[:10]"
   ]
  },
  {
   "cell_type": "code",
   "execution_count": 29,
   "metadata": {},
   "outputs": [
    {
     "name": "stdout",
     "output_type": "stream",
     "text": [
      "0.758\n"
     ]
    }
   ],
   "source": [
    "#Fit the model\n",
    "model=naive_bayes.MultinomialNB()\n",
    "model.fit(X_train, y_train)\n",
    "prediction_train=model.predict(X_train)\n",
    "print metrics.accuracy_score(y_train, prediction_train)"
   ]
  },
  {
   "cell_type": "code",
   "execution_count": 30,
   "metadata": {},
   "outputs": [
    {
     "name": "stdout",
     "output_type": "stream",
     "text": [
      "0.734\n"
     ]
    }
   ],
   "source": [
    "# Test on test data\n",
    "Y_test, X_test = dmatrices(formula, df2_test, return_type='dataframe')\n",
    "y_test = Y_test['target'].values\n",
    "\n",
    "# Run the test\n",
    "prediction_test = model.predict(X_test)\n",
    "print metrics.accuracy_score(y_test, prediction_test)"
   ]
  },
  {
   "cell_type": "code",
   "execution_count": 31,
   "metadata": {},
   "outputs": [
    {
     "name": "stdout",
     "output_type": "stream",
     "text": [
      "Prior probability for the negative class is 0.749\n",
      "Prior probability for the positive class is 0.25099999999999995\n"
     ]
    }
   ],
   "source": [
    "#Examine the prior probability\n",
    "print 'Prior probability for the negative class is',\n",
    "print exp(model.class_log_prior_[0])\n",
    "print 'Prior probability for the positive class is',\n",
    "print exp(model.class_log_prior_[1])"
   ]
  },
  {
   "cell_type": "code",
   "execution_count": 32,
   "metadata": {},
   "outputs": [
    {
     "data": {
      "text/plain": [
       "array([[352,   8],\n",
       "       [125,  15]])"
      ]
     },
     "execution_count": 32,
     "metadata": {},
     "output_type": "execute_result"
    }
   ],
   "source": [
    "#Confusion matrix\n",
    "confusion_matrix(y_test, prediction_test)\n",
    "#Column names: pred 0 1\n",
    "#Row names:\n",
    "#actual\n",
    "#0\n",
    "#1"
   ]
  },
  {
   "cell_type": "markdown",
   "metadata": {},
   "source": [
    "### Now build a classification model with text (full job description) as the only predictor. There are two versions of Naïve Bayes – binomial and multinomial; for the moment, let’s not bother about the theoretical underpinnings! You can use either one for this assignment. For all models, show the confusion matrix.\n",
    "\n",
    "This model performed much better with a test accuracy of .796 (compared to prior probability of 0.749)"
   ]
  },
  {
   "cell_type": "code",
   "execution_count": 33,
   "metadata": {},
   "outputs": [],
   "source": [
    "def review_to_words(description):\n",
    "    letters_only = re.sub(\"[^a-zA-Z]\", \" \", description) \n",
    "    words = letters_only.lower()\n",
    "    des = word_tokenize(words)\n",
    "    return(des)\n",
    "\n",
    "description = []\n",
    "n = len(df_jobs[\"FullDescription\"])\n",
    "for i in range(0,n):\n",
    "    description.append(review_to_words(df_jobs[\"FullDescription\"][i]))"
   ]
  },
  {
   "cell_type": "code",
   "execution_count": 34,
   "metadata": {},
   "outputs": [],
   "source": [
    "for i in range(len(description)):\n",
    "    description[i] = \" \".join(description[i])"
   ]
  },
  {
   "cell_type": "code",
   "execution_count": 35,
   "metadata": {},
   "outputs": [],
   "source": [
    "matrix = CountVectorizer(max_features=2500,stop_words='english')\n",
    "X = pd.DataFrame(matrix.fit_transform(description).toarray())\n",
    "X.columns=matrix.get_feature_names()\n",
    "y = df_jobs[\"target\"]"
   ]
  },
  {
   "cell_type": "code",
   "execution_count": 36,
   "metadata": {},
   "outputs": [],
   "source": [
    "# Split into train and test sets\n",
    "X_train = X[:2000]\n",
    "X_test = X[-500:]\n",
    "y_train = y[:2000]\n",
    "y_test = y[-500:]"
   ]
  },
  {
   "cell_type": "code",
   "execution_count": 37,
   "metadata": {},
   "outputs": [
    {
     "data": {
      "text/plain": [
       "0.8155"
      ]
     },
     "execution_count": 37,
     "metadata": {},
     "output_type": "execute_result"
    }
   ],
   "source": [
    "classifier = naive_bayes.MultinomialNB()\n",
    "classifier.fit(X_train, y_train)\n",
    "y_train_pred = classifier.predict(X_train)\n",
    "accuracy_train = metrics.accuracy_score(y_train_pred, y_train)\n",
    "accuracy_train"
   ]
  },
  {
   "cell_type": "code",
   "execution_count": 38,
   "metadata": {},
   "outputs": [
    {
     "data": {
      "text/plain": [
       "0.796"
      ]
     },
     "execution_count": 38,
     "metadata": {},
     "output_type": "execute_result"
    }
   ],
   "source": [
    "classifier = naive_bayes.MultinomialNB()\n",
    "classifier.fit(X_train, y_train)\n",
    "y_test_pred = classifier.predict(X_test)\n",
    "accuracy_test = metrics.accuracy_score(y_test_pred, y_test)\n",
    "accuracy_test"
   ]
  },
  {
   "cell_type": "code",
   "execution_count": 39,
   "metadata": {},
   "outputs": [
    {
     "data": {
      "text/plain": [
       "array([[293,  35],\n",
       "       [ 67, 105]])"
      ]
     },
     "execution_count": 39,
     "metadata": {},
     "output_type": "execute_result"
    }
   ],
   "source": [
    "#Confusion matrix\n",
    "confusion_matrix(y_test_pred,y_test)"
   ]
  },
  {
   "cell_type": "code",
   "execution_count": 40,
   "metadata": {
    "scrolled": true
   },
   "outputs": [
    {
     "data": {
      "text/plain": [
       "experience    -4.181087\n",
       "business      -4.405676\n",
       "role          -4.600606\n",
       "team          -4.639417\n",
       "management    -4.800952\n",
       "work          -4.839243\n",
       "skills        -4.890732\n",
       "client        -4.926592\n",
       "development   -4.957490\n",
       "manager       -5.082096\n",
       "dtype: float64"
      ]
     },
     "execution_count": 40,
     "metadata": {},
     "output_type": "execute_result"
    }
   ],
   "source": [
    "feature_importances =classifier.feature_log_prob_[1]\n",
    "feature_importance_series = pd.Series(feature_importances, index=X.columns.values)\n",
    "feature_importance_series.sort_values(ascending=False)[:10]"
   ]
  },
  {
   "cell_type": "code",
   "execution_count": 41,
   "metadata": {},
   "outputs": [
    {
     "data": {
      "text/plain": [
       "experience   -4.318628\n",
       "role         -4.652740\n",
       "work         -4.697554\n",
       "team         -4.757658\n",
       "skills       -4.853790\n",
       "working      -4.856578\n",
       "job          -4.872049\n",
       "business     -4.893540\n",
       "sales        -4.915503\n",
       "company      -5.111988\n",
       "dtype: float64"
      ]
     },
     "execution_count": 41,
     "metadata": {},
     "output_type": "execute_result"
    }
   ],
   "source": [
    "feature_importances =classifier.feature_log_prob_[0]\n",
    "feature_importance_series = pd.Series(feature_importances, index=X.columns.values)\n",
    "feature_importance_series.sort_values(ascending=False)[:10]"
   ]
  },
  {
   "cell_type": "code",
   "execution_count": 42,
   "metadata": {},
   "outputs": [
    {
     "data": {
      "text/plain": [
       "CountVectorizer(analyzer=u'word', binary=False, decode_error=u'strict',\n",
       "        dtype=<type 'numpy.int64'>, encoding=u'utf-8', input=u'content',\n",
       "        lowercase=True, max_df=1.0, max_features=2500, min_df=1,\n",
       "        ngram_range=(1, 1), preprocessor=None, stop_words='english',\n",
       "        strip_accents=None, token_pattern=u'(?u)\\\\b\\\\w\\\\w+\\\\b',\n",
       "        tokenizer=None, vocabulary=None)"
      ]
     },
     "execution_count": 42,
     "metadata": {},
     "output_type": "execute_result"
    }
   ],
   "source": [
    "matrix"
   ]
  },
  {
   "cell_type": "markdown",
   "metadata": {},
   "source": [
    "### B2. Create a classification model with all words and the bag-of-words approach. How accurate is the model (show the confusion matrix)? \n",
    "### Also show the top 10 words (excluding stopwords) that are most indicative of (i) high salary, and (ii) low salary. \n",
    "\n",
    "We were instructed to disregard this section. These answers can be found in the second half of B1. "
   ]
  },
  {
   "cell_type": "markdown",
   "metadata": {},
   "source": [
    "### B3. Train a “hybrid” model to predict high/low salary using both numeric and text data. Show the accuracy of the model. \n",
    "### Which model – numeric only, text only and hybrid – provided the highest accuracy in predicting high/low salary? Did the result surprise you? Why or why not?\n",
    "\n",
    "This \"hybrid\" model performed with a test accuracy of 0.800 - our best model yet.\n",
    "\n",
    "It is interesting that adding information from a model that didn't perform well (purely dummy variables) still slightly increased performance of a model that did perform well (job descriptions). However, it is not totally surprising. We can expect that adding more information to a model should increase accuracy as we are testing for it, even slightly. The increase is not substantial, though, and may not be worth seeking when taking bias / variance and accuracy / interpretability trade-offs into consideration."
   ]
  },
  {
   "cell_type": "code",
   "execution_count": 43,
   "metadata": {},
   "outputs": [],
   "source": [
    "df3=pd.concat([df_dummies, X, df_jobs['Location']], axis=1)"
   ]
  },
  {
   "cell_type": "code",
   "execution_count": 44,
   "metadata": {},
   "outputs": [
    {
     "name": "stdout",
     "output_type": "stream",
     "text": [
      "0.818\n"
     ]
    }
   ],
   "source": [
    "#Fit the model\n",
    "X2=df3\n",
    "y=df_jobs['target']\n",
    "\n",
    "# Split into train and test sets\n",
    "X2_train = X2[:2000]\n",
    "X2_test = X2[-500:]\n",
    "y_train = y[:2000]\n",
    "y_test = y[-500:]\n",
    "\n",
    "\n",
    "model2=naive_bayes.MultinomialNB()\n",
    "model2.fit(X2_train, y_train)\n",
    "prediction_train=model2.predict(X2_train)\n",
    "print metrics.accuracy_score(y_train, prediction_train)"
   ]
  },
  {
   "cell_type": "code",
   "execution_count": 45,
   "metadata": {},
   "outputs": [
    {
     "data": {
      "text/plain": [
       "0.8"
      ]
     },
     "execution_count": 45,
     "metadata": {},
     "output_type": "execute_result"
    }
   ],
   "source": [
    "# Run on test data\n",
    "y_test_pred = model2.predict(X2_test)\n",
    "prediction_test = metrics.accuracy_score(y_test_pred, y_test)\n",
    "prediction_test"
   ]
  },
  {
   "cell_type": "code",
   "execution_count": 46,
   "metadata": {},
   "outputs": [
    {
     "data": {
      "text/plain": [
       "array([[292,  68],\n",
       "       [ 32, 108]])"
      ]
     },
     "execution_count": 46,
     "metadata": {},
     "output_type": "execute_result"
    }
   ],
   "source": [
    "#Confusion matrix\n",
    "confusion_matrix(y_test, y_test_pred)"
   ]
  }
 ],
 "metadata": {
  "kernelspec": {
   "display_name": "Python 2",
   "language": "python",
   "name": "python2"
  },
  "language_info": {
   "codemirror_mode": {
    "name": "ipython",
    "version": 2
   },
   "file_extension": ".py",
   "mimetype": "text/x-python",
   "name": "python",
   "nbconvert_exporter": "python",
   "pygments_lexer": "ipython2",
   "version": "2.7.15"
  }
 },
 "nbformat": 4,
 "nbformat_minor": 2
}
